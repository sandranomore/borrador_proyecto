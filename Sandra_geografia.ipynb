{
 "cells": [
  {
   "cell_type": "code",
   "execution_count": null,
   "metadata": {},
   "outputs": [],
   "source": [
    "hola estoy es una prueba de Sandra"
   ]
  }
 ],
 "metadata": {
  "language_info": {
   "name": "python"
  }
 },
 "nbformat": 4,
 "nbformat_minor": 2
}
# Definir un diccionario de preguntas y respuestas
preguntas_respuestas = {
    "Los tres picos más altos de España se encuentran fuera de la península?": "False",
    "¿El pico más alto de España peninsular es el Mulhacén?": "True",
    "¿Pico Viejo es el segundo pico más alto de España?": "False",
    "¿España tiene 45 provincias?": "False",
    "¿España tiene 2 ciudades autónomas?": "True",
    "¿Es el rio Tajo el más largo de los rios de España?": "True",
    "¿Es el rio Ebro el más caudaloso de España?": "True"
}

# Función para jugar al juego de preguntas
def jugar_juego():
    intentos_maximos = 3
    respuestas_correctas = 0
    respuestas_incorrectas = 0
    
    for pregunta, respuesta in preguntas_respuestas.items():
        print("Pregunta:", pregunta)
        intentos = 0
        
        while intentos < intentos_maximos:
            intento = input("Tu respuesta (True/False): ").capitalize()
            if intento == respuesta:
                print("¡Respuesta correcta!")
                respuestas_correctas += 1
                break
            else:
                intentos += 1
                print("Respuesta incorrecta. Intenta de nuevo.")
        else:
            print("Has alcanzado el máximo de intentos para esta pregunta.")
            respuestas_incorrectas += 1
            
        if respuestas_incorrectas >= 3:
            print(Has respondido incorrectamente 3 veces. ¡Fin del juego!")
            break
            
        if respuestas_correctas == 5:
            print("¡Felicidades! Has respondido correctamente 5 preguntas. ¡Ganaste el juego!")
            break

# Iniciar el juego
jugar_juego()
